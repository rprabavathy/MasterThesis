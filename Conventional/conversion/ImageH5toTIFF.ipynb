{
 "cells": [
  {
   "cell_type": "code",
   "execution_count": 1,
   "metadata": {},
   "outputs": [],
   "source": [
    "import os\n",
    "import h5py\n",
    "import json\n",
    "import numpy as np\n",
    "from PIL import Image"
   ]
  },
  {
   "cell_type": "code",
   "execution_count": 22,
   "metadata": {},
   "outputs": [],
   "source": [
    "# Directory containing the h5 files\n",
    "h5_dir = '/mnt/g/Implementation/Segmentation/working/Images4/Masks/'\n",
    "\n",
    "# Directory to save the images#\n",
    "output_dir = '/mnt/g/Implementation/Segmentation/working/Images4/TIFF/'\n",
    "\n",
    "# Ensure output directory exists\n",
    "os.makedirs(output_dir, exist_ok=True)\n",
    "\n",
    "# Iterate over all h5 files in the directory\n",
    "for filename in os.listdir(h5_dir):\n",
    "    if filename.endswith('.h5'):\n",
    "        # Open the h5 file\n",
    "        with h5py.File(os.path.join(h5_dir, filename), 'r') as f:\n",
    "            # Read the image data\n",
    "            image_data = np.array(f['/Image'])\n",
    "    \n",
    "            # Convert the image data to an 8-bit PIL Image\n",
    "            image = Image.fromarray(image_data.astype('uint8'))\n",
    "\n",
    "            # Save the image in tiff format\n",
    "            image.save(os.path.join(output_dir, f'{os.path.splitext(filename)[0]}.tiff'))\n",
    "            \n",
    "            # # Save the metadata in a text file\n",
    "            # with open(os.path.join(output_dir, f'{os.path.splitext(filename)[0]}.txt'), 'w') as meta_file:\n",
    "            #     for key, value in f['/Image'].attrs.items():\n",
    "            #         meta_file.write(f'{key}: {value}\\n')"
   ]
  }
 ],
 "metadata": {
  "kernelspec": {
   "display_name": "Python 3",
   "language": "python",
   "name": "python3"
  },
  "language_info": {
   "codemirror_mode": {
    "name": "ipython",
    "version": 3
   },
   "file_extension": ".py",
   "mimetype": "text/x-python",
   "name": "python",
   "nbconvert_exporter": "python",
   "pygments_lexer": "ipython3",
   "version": "3.8.10"
  }
 },
 "nbformat": 4,
 "nbformat_minor": 2
}
