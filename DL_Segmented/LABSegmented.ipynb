{
 "cells": [
  {
   "cell_type": "code",
   "execution_count": null,
   "id": "ef0776d4",
   "metadata": {},
   "outputs": [],
   "source": [
    "import os\n",
    "import cv2\n",
    "import numpy as np\n",
    "import pandas as pd\n",
    "import matplotlib.pyplot as plt"
   ]
  },
  {
   "cell_type": "code",
   "execution_count": null,
   "id": "14f5bfcc",
   "metadata": {},
   "outputs": [
    {
     "data": {
      "text/plain": [
       "<Figure size 640x480 with 0 Axes>"
      ]
     },
     "metadata": {},
     "output_type": "display_data"
    }
   ],
   "source": [
    "def display_images(images, titles, cmap=None, figsize=(15, 5)):\n",
    "    \n",
    "    if cmap is None:\n",
    "        cmap = [None] * len(images)\n",
    "    \n",
    "    if cmap == 'viridis':\n",
    "        cmap = ['viridis'] * len(images)\n",
    "            \n",
    "    if cmap == 'gray':\n",
    "        cmap = ['gray'] * len(images)\n",
    "        \n",
    "    fig, ax = plt.subplots(ncols=len(images), figsize=figsize)\n",
    "    for i in range(len(images)):\n",
    "        ax[i].imshow(images[i], cmap=cmap[i])\n",
    "        ax[i].set_title(f'{titles[i]}')\n",
    "        ax[i].axis('off')\n",
    "    plt.show()\n",
    "\n",
    "def colorSpace(image, name):\n",
    "    colorSpaceImage = cv2.cvtColor(image, name)\n",
    "    c1, c2, c3 = cv2.split(colorSpaceImage)\n",
    "    return c1, c2, c3\n",
    "\n",
    "def display_histogram(channels, titles, colors, figsize=(15, 5)):\n",
    "    fig, ax = plt.subplots(ncols=len(channels), figsize=figsize)\n",
    "    for i in range(len(channels)):\n",
    "        ax[i].hist(channels[i][channels[i]>0].flatten(), bins=256, color= colors[i])\n",
    "        ax[i].set_title(f'histogram of {titles[i]}')\n",
    "        # Remove ticks and labels\n",
    "        ax[i].tick_params(axis=\"both\", which=\"both\", bottom=False, top=False, left=False, right=False, labelbottom=True, labelleft=False)\n",
    "plt.tight_layout()  # Adjust layout to prevent overlapping\n",
    "plt.show()\n",
    "\n",
    "def apply_Otsu_threshold(image, channel):\n",
    "    thresholdValue, threshold = cv2.threshold(channel, 0, 255, cv2.THRESH_OTSU+cv2.THRESH_BINARY_INV)\n",
    "    masked_image = cv2.bitwise_and(image, image, mask=threshold.astype(np.uint8)*255)\n",
    "    return thresholdValue, threshold, masked_image\n"
   ]
  },
  {
   "cell_type": "code",
   "execution_count": null,
   "id": "35df2e13",
   "metadata": {},
   "outputs": [
    {
     "name": "stdout",
     "output_type": "stream",
     "text": [
      "processed all images\n"
     ]
    }
   ],
   "source": [
    "#Post-processing the Masks\n",
    "input_path = '/mnt/g/Data/BF_981'\n",
    "mask_path = '/mnt/c/Users/praba/sciebo/Thesis/Results/Results/SW/Human'\n",
    "output_path = '/mnt/c/Users/praba/sciebo/Thesis/Results/Results/SW/Human'\n",
    "os.makedirs(output_path, exist_ok=True)\n",
    "# seg_path = '/mnt/g/Result/predictions_100K_Random/newImages'\n",
    "image_files, mask_files = sorted(os.listdir(input_path)), sorted(os.listdir(mask_path))\n",
    "assert len(image_files) == len(mask_files)\n",
    "data = pd.DataFrame({'image': image_files, \n",
    "                     'mask': mask_files})\n",
    "\n",
    "for image_name, mask_name in zip(data['image'], data['mask']):\n",
    "    # Load image and mask using OpenCV\n",
    "    image = cv2.imread(os.path.join(input_path, image_name))\n",
    "    mask = cv2.imread(os.path.join(mask_path, mask_name), 0)    \n",
    "    segmented_image = cv2.bitwise_and(image, image, mask=mask.astype(np.uint8)*255)\n",
    "    L, A, B = colorSpace(segmented_image, cv2.COLOR_RGB2LAB)\n",
    "    value, threshold, masked_image = apply_Otsu_threshold(segmented_image, B)\n",
    "    # cv2.imwrite(os.path.join(seg_path, image_name), masked_image)\n",
    "    black_mask = np.all(masked_image == 0, axis=2)\n",
    "    refined_mask = mask.copy()\n",
    "    refined_mask[black_mask] = 0  \n",
    "    cv2.imwrite(os.path.join(output_path, mask_name), refined_mask)\n",
    "\n",
    "print(f'processed all images')\n"
   ]
  },
  {
   "cell_type": "code",
   "execution_count": null,
   "id": "ba20c7ef",
   "metadata": {},
   "outputs": [],
   "source": [
    "# #Segmentation of Block face images\n",
    "# input_path = '/mnt/g/Data/BF_981'\n",
    "# mask_path = '/mnt/d/Results/wd1e_6/newrandom/256/50K/pred'\n",
    "# output_path = '/mnt/d/Results/wd1e_6/newrandom/256/50K/seg'\n",
    "\n",
    "# os.makedirs(output_path, exist_ok=True)\n",
    "# image_files, mask_files = sorted(os.listdir(input_path)), sorted(os.listdir(mask_path))\n",
    "# assert len(image_files) == len(mask_files)\n",
    "# data = pd.DataFrame({'image': image_files,\n",
    "#                      'mask': mask_files})\n",
    "\n",
    "# for image_name, mask_name in zip(data['image'], data['mask']):\n",
    "#     # Load image and mask using OpenCV\n",
    "#     image = cv2.imread(os.path.join(input_path, image_name))\n",
    "#     mask = cv2.imread(os.path.join(mask_path, mask_name), 0)    \n",
    "#     segmented_image = cv2.bitwise_and(image, image, mask=mask.astype(np.uint8)*255)\n",
    "#     cv2.imwrite(os.path.join(output_path, mask_name), segmented_image)\n",
    "\n",
    "# print(f'processed all images')\n"
   ]
  }
 ],
 "metadata": {
  "kernelspec": {
   "display_name": "Python 3",
   "language": "python",
   "name": "python3"
  },
  "language_info": {
   "codemirror_mode": {
    "name": "ipython",
    "version": 3
   },
   "file_extension": ".py",
   "mimetype": "text/x-python",
   "name": "python",
   "nbconvert_exporter": "python",
   "pygments_lexer": "ipython3",
   "version": "3.8.10"
  }
 },
 "nbformat": 4,
 "nbformat_minor": 5
}
